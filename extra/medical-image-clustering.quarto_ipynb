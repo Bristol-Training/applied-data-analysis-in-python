{
  "cells": [
    {
      "cell_type": "markdown",
      "metadata": {},
      "source": [
        "---\n",
        "title: Medical image clustering\n",
        "jupyter: python3\n",
        "---\n",
        "\n",
        "\n",
        "\n",
        "\n",
        "\n",
        "\n",
        "### Aim\n",
        "\n",
        "To teach the concept of image clustering for analysis of medical images using a publicly available data set. The course will introduce ideas on data optimisation techniques with a focus on data augmentation, to improve machine learning in small imaging datasets. \n",
        "\n",
        "\n",
        "### Pre-requisites\n",
        "\n",
        "You need to have `scikit-image` library installed to run this practical. If you are using Anaconda the recommended way to install it is with\n",
        "\n",
        "```{.bash}\n",
        "conda install scikit-image\n",
        "```\n",
        "\n",
        "Alternatively, you can use `pip` as in \n",
        "\n",
        "```{.bash}\n",
        "python -m pip install -U pip\n",
        "python -m pip install -U scikit-image\n",
        "```\n",
        "\n",
        "\n",
        "# The basics of image clustering\n",
        "\n",
        "Machine learning can be used on images as well as numerical data. One method is clustering. Clustering is a form of unsupervised learning in which you separate a large set of data into smaller groups based on distances between them. In terms of images, clustering can be used to reduce the number of colours used in an image.\n",
        "\n",
        "In this exercise we will demonstrate how clustering can be used to measure the size of different dermatological features.\n",
        "\n",
        "Make sure to download our data from here:\n",
        "\n",
        "- [Picture of mole 1](./data/mole.jpg)\n",
        "- [Picture of mole 2](./data/mole2.jpg)\n",
        "- [Picture of mole 3](./data/mole3.jpg)\n",
        "\n",
        "Let's start by loading our first image from our directory and examining it's features:\n"
      ],
      "id": "cad87978"
    },
    {
      "cell_type": "code",
      "metadata": {},
      "source": [
        "from PIL import Image\n",
        "import numpy as np\n",
        "from skimage import io\n",
        "import matplotlib.pyplot as plt\n",
        "\n",
        "# Make sure to specify your own working directory\n",
        "img_handle  = Image.open(\"extra/data/mole.jpg\") \n",
        "# We need to first convert the image to a numpy array to ensure we can specify its dimensions \n",
        "img = np.array(img_handle)\n",
        "print('Shape is', img.shape)\n",
        "print(\"Size is\", img.size)"
      ],
      "id": "a34e5c3b",
      "execution_count": null,
      "outputs": []
    },
    {
      "cell_type": "code",
      "metadata": {},
      "source": [
        "io.imshow(img)\n",
        "plt.show()"
      ],
      "id": "17d958d9",
      "execution_count": null,
      "outputs": []
    },
    {
      "cell_type": "markdown",
      "metadata": {},
      "source": [
        "At the moment, the image is in 3 dimensions: 450 (height) x 600 (width) x 3 (colour). Color is 3 corresponding to RGB (red, green, blue). We want to flatten the image to two dimensional array (pixel x colour).\n",
        "\n",
        "We then want to put this into a pandas data frame for better plotting and processing. The data frame will have four columns: Red, Green, Blue and Colour - indicating the hex code of the pixel.\n"
      ],
      "id": "1af0a17f"
    },
    {
      "cell_type": "code",
      "metadata": {},
      "source": [
        "img = np.array(img, dtype=np.float64) / 255  # Scale values\n",
        "w, h, d = original_shape = tuple(img.shape)  # Get the current shape\n",
        "img_array = np.reshape(img, (w * h, d))  # Reshape to to 2D\n",
        "\n",
        "#put into pandas data frame \n",
        "from pandas import DataFrame\n",
        "\n",
        "pixels = DataFrame(img_array, columns=[\"Red\", \"Green\", \"Blue\"])\n",
        "from matplotlib import colors\n",
        "\n",
        "pixels[\"colour\"] = [colors.to_hex(p) for p in img_array]\n",
        "print(pixels)"
      ],
      "id": "4046b8c3",
      "execution_count": null,
      "outputs": []
    },
    {
      "cell_type": "markdown",
      "metadata": {},
      "source": [
        "## Exploring the data\n",
        "\n",
        "It is useful to plot the data before running the clustering.\n",
        "\n",
        "Since we have a high amount of pixels (810000) running the algorithm may be slow. Therefore we can run it over a small subset of data.\n"
      ],
      "id": "84d5e460"
    },
    {
      "cell_type": "code",
      "metadata": {},
      "source": [
        "pixels_sample = pixels.sample(frac=0.05) #look at 5% of the data"
      ],
      "id": "ee692d24",
      "execution_count": null,
      "outputs": []
    },
    {
      "cell_type": "markdown",
      "metadata": {},
      "source": [
        "Since RGB pixels are a 3D dataset, we will plot three 2D plots of the pairs red/green, red/blue and green/blue. \n",
        "\n",
        "To make our lives easier, we can define a function plot_colours() which will plot the three pairs of columns against each other. To make the plots visually useful we will also colour each point in the plot with the colour of the pixel it came from using our fourth column, 'Colour'.\n"
      ],
      "id": "15e36af8"
    },
    {
      "cell_type": "code",
      "metadata": {},
      "source": [
        "def plot_colours(df, c1, c2, c3):\n",
        "    \"\"\"\n",
        "    Given a DataFrame and three column names,\n",
        "    plot the pairs against each other\n",
        "    \"\"\"\n",
        "    fig, ax = plt.subplots(1, 3)\n",
        "    fig.set_size_inches(18, 6)\n",
        "    df.plot.scatter(c1, c2, c=df[\"colour\"], alpha=0.3, ax=ax[0])\n",
        "    df.plot.scatter(c1, c3, c=df[\"colour\"], alpha=0.3, ax=ax[1])\n",
        "    df.plot.scatter(c2, c3, c=df[\"colour\"], alpha=0.3, ax=ax[2])\n",
        "\n",
        "plot_colours(pixels_sample, \"Red\", \"Green\", \"Blue\")\n",
        "plt.show()"
      ],
      "id": "e75fccd9",
      "execution_count": null,
      "outputs": []
    },
    {
      "cell_type": "markdown",
      "metadata": {},
      "source": [
        "<br>\n",
        "\n",
        "* **The 1st plot**: Red  vs green, represents a non-linear relationship between red and green, red increases and green increases at a different rate.\n",
        "* **The 2nd plot**: Red vs blue, a curved upward trend  where red values have higher blue values. However, the spread is more eminent at lower levels of red intensity.\n",
        "* **The 3rd plot**: Green vs blue, a curved relationship with strong positive correlation with limited spread. Meaning as green increases blue increases.\n",
        "\n",
        "\n",
        "Overall this shows we have a strong correlation between colour channels and the colours are highly dependent as shown by high correlation.\n",
        "\n",
        "Sometimes viewing the data in 3D can help since planar projections can lose some nuances of the data. We can display 3D plots using the `mplot3d` package.\n"
      ],
      "id": "2e8aaa5a"
    },
    {
      "cell_type": "code",
      "metadata": {},
      "source": [
        "from mpl_toolkits import mplot3d\n",
        "\n",
        "fig = plt.figure(figsize=(10,8))\n",
        "ax = plt.axes(projection='3d')\n",
        "\n",
        "ax.set_xlabel(\"Red\")\n",
        "ax.set_ylabel(\"Green\")\n",
        "ax.set_zlabel(\"Blue\",labelpad=-2,rotation=90) # Rotate the z-axis label to fit\n",
        "\n",
        "ax.scatter(pixels_sample[\"Red\"], pixels_sample[\"Green\"], pixels_sample[\"Blue\"], c=pixels_sample[\"colour\"])\n",
        "plt.show()"
      ],
      "id": "320bb029",
      "execution_count": null,
      "outputs": []
    },
    {
      "cell_type": "markdown",
      "metadata": {},
      "source": [
        "## Assigning points to clusters\n",
        "\n",
        "Now we can begin the clustering. We will be using a method called **k-means clustering**. It works by initialising K cluster centres, assigning each data point (pixel in this case) to the nearest centre. It then works through the data set, assigning each pixel and updating the clusters if needed. The process continues until no more updates to the clusters are required. \n",
        "\n",
        "We can run the clustering and display our cluster centres using the code below:\n"
      ],
      "id": "1ba50ced"
    },
    {
      "cell_type": "code",
      "metadata": {},
      "source": [
        "from sklearn.cluster import KMeans\n",
        "\n",
        "kmeans = KMeans(n_clusters=5, n_init=\"auto\").fit(pixels_sample[[\"Red\", \"Green\", \"Blue\"]])\n",
        "plt.imshow([kmeans.cluster_centers_])\n",
        "plt.show()"
      ],
      "id": "c6203509",
      "execution_count": null,
      "outputs": []
    },
    {
      "cell_type": "markdown",
      "metadata": {},
      "source": [
        "Now we have our clusters which we can use as our representative clusters for the image. We can now go through the original image and assign each pixel to a cluster that it is nearest to.\n"
      ],
      "id": "644bf8c5"
    },
    {
      "cell_type": "code",
      "metadata": {},
      "source": [
        "labels = kmeans.predict(pixels[[\"Red\", \"Green\", \"Blue\"]])\n",
        "labels"
      ],
      "id": "25139d7d",
      "execution_count": null,
      "outputs": []
    },
    {
      "cell_type": "markdown",
      "metadata": {},
      "source": [
        "<br>\n",
        "To quantify these predictions we can plot a bar graph to show how many pixels are in each cluster \n"
      ],
      "id": "46201ab0"
    },
    {
      "cell_type": "code",
      "metadata": {},
      "source": [
        "from pandas import DataFrame, Series\n",
        "\n",
        "Series(labels).value_counts(sort=False).plot.bar(color=kmeans.cluster_centers_)\n",
        "plt.show()"
      ],
      "id": "c06ccbe3",
      "execution_count": null,
      "outputs": []
    },
    {
      "cell_type": "markdown",
      "metadata": {},
      "source": [
        "To assess how well the algorithm has clustered the images, we can plot the clustered pixels next to the original image to observe the differences. \n",
        "\n",
        "First we need to convert our clustered pixels back to a 3D array (width x height x colour):\n"
      ],
      "id": "7a0ffde0"
    },
    {
      "cell_type": "code",
      "metadata": {},
      "source": [
        "reduced = np.array([kmeans.cluster_centers_[p] for p in labels]).reshape(original_shape)"
      ],
      "id": "37630bb2",
      "execution_count": null,
      "outputs": []
    },
    {
      "cell_type": "markdown",
      "metadata": {},
      "source": [
        "We can then plot the images next to each other.\n"
      ],
      "id": "4713e000"
    },
    {
      "cell_type": "code",
      "metadata": {},
      "source": [
        "f, axarr = plt.subplots(1, 2, sharex=True, sharey=True, figsize=(18, 9))\n",
        "axarr[0].imshow(img)\n",
        "axarr[0].set_title(\"Original\")\n",
        "axarr[1].imshow(reduced)\n",
        "axarr[1].set_title(\"RGB clustered\")\n",
        "plt.show()"
      ],
      "id": "a38f13cc",
      "execution_count": null,
      "outputs": []
    },
    {
      "cell_type": "markdown",
      "metadata": {},
      "source": [
        "<br>\n",
        "Here it has done a pretty good job at identifying the main darker spots, but finer features such as hair are undefined. We could try to improve this by increasing the number of clusters.\n",
        "\n",
        "1. What number of clusters do you think are sufficient to define all features?\n",
        "2. Set the number of clusters to 2. Does this sufficiently distinguish between mole and not mole?\n",
        "\n",
        "::: {#ex1 .callout-note icon=false title='Optional Exercise'}\n",
        "Take a look at this [other image clustering exercise](../pages/appendix_clustering_images.html). It explains different methods for colouring space. Have a go at using and comparing the different methods.\n",
        ":::\n",
        "\n",
        "# Clustering Multiple Images\n",
        "\n",
        "In the next step we are going to use this clustering technique to measure the surface area of dermatological features in a set of 3 images. This could be used as a technique to measure features in a large data set that are hard or tedious to quantify.\n",
        "\n",
        "First we need to load and inspect the images in the same way we did in the previous exercise\n"
      ],
      "id": "02474365"
    },
    {
      "cell_type": "code",
      "metadata": {},
      "source": [
        "from PIL import Image\n",
        "import numpy as np\n",
        "from skimage import io\n",
        "import matplotlib.pyplot as plt\n",
        "\n",
        "#image 1\n",
        "img1  = Image.open(\"extra/data/mole.jpg\") #make sure to specify your own working directory\n",
        "img1 = np.array(img1)\n",
        "print('Image 1 shape is', img1.shape)\n",
        "print(\"Image 1 size is\", img1.size)\n",
        "\n",
        "io.imshow(img1)\n",
        "plt.show()\n",
        "\n",
        "#image 2\n",
        "img2  = Image.open(\"extra/data/mole2.jpg\") #make sure to specify your own working directory\n",
        "img2 = np.array(img2)\n",
        "print('Image 2 shape is', img2.shape)\n",
        "print(\"Image 2 size is\", img2.size)\n",
        "\n",
        "io.imshow(img2)\n",
        "plt.show()\n",
        "\n",
        "#image 3\n",
        "img3  = Image.open(\"extra/data/mole3.jpg\") #make sure to specify your own working directory\n",
        "img3 = np.array(img3)\n",
        "print('Image 3 shape is', img3.shape)\n",
        "print(\"Image 3 size is\", img3.size)\n",
        "\n",
        "io.imshow(img3)\n",
        "plt.show()"
      ],
      "id": "d78d22c9",
      "execution_count": null,
      "outputs": []
    },
    {
      "cell_type": "markdown",
      "metadata": {},
      "source": [
        "We also need to flatten them and convert into a pandas data frames\n"
      ],
      "id": "f8e0288f"
    },
    {
      "cell_type": "code",
      "metadata": {},
      "source": [
        "from pandas import DataFrame\n",
        "from matplotlib import colors\n",
        "\n",
        "#image 1\n",
        "img1 = np.array(img1, dtype=np.float64) / 255  # Scale values\n",
        "w, h, d = original_shape = tuple(img1.shape)  # Get the current shape\n",
        "img1_array = np.reshape(img1, (w * h, d))  # Reshape to to 2D\n",
        "\n",
        "pixels1 = DataFrame(img1_array, columns=[\"Red\", \"Green\", \"Blue\"]) #convert to pandas\n",
        "pixels1[\"colour\"] = [colors.to_hex(p) for p in img1_array] #add colours column \n",
        "print(pixels1)\n",
        "\n",
        "#image 2\n",
        "img2 = np.array(img2, dtype=np.float64) / 255  # Scale values\n",
        "w, h, d = original_shape = tuple(img2.shape)  # Get the current shape\n",
        "img2_array = np.reshape(img2, (w * h, d))  # Reshape to to 2D\n",
        "\n",
        "pixels2 = DataFrame(img2_array, columns=[\"Red\", \"Green\", \"Blue\"]) #convert to pandas\n",
        "pixels2[\"colour\"] = [colors.to_hex(p) for p in img2_array] #add colours column \n",
        "print(pixels2)\n",
        "\n",
        "#image 3\n",
        "img3 = np.array(img3, dtype=np.float64) / 255  # Scale values\n",
        "w, h, d = original_shape = tuple(img3.shape)  # Get the current shape\n",
        "img3_array = np.reshape(img3, (w * h, d))  # Reshape to to 2D\n",
        "\n",
        "pixels3 = DataFrame(img3_array, columns=[\"Red\", \"Green\", \"Blue\"]) #convert to pandas\n",
        "pixels3[\"colour\"] = [colors.to_hex(p) for p in img3_array] #add colours column \n",
        "print(pixels3)"
      ],
      "id": "741bbc05",
      "execution_count": null,
      "outputs": []
    },
    {
      "cell_type": "markdown",
      "metadata": {},
      "source": [
        "::: {#exercise2 .callout-note icon=false title='Exercise'}\n",
        "At the moment we are loading and editing each image seperately - this can be time consuming with large data sets. How can we make this process faster? \n",
        ":::\n",
        "\n",
        "\n",
        "::: {#answer2 .callout-caution icon=false title='Answer' collapse=\"true\"}\n"
      ],
      "id": "387b8c5e"
    },
    {
      "cell_type": "code",
      "metadata": {},
      "source": [
        "import os\n",
        "\n",
        "# Set a directory variable name containing images\n",
        "image_dir = \"extra/data\"\n",
        "\n",
        "# List all image files in the directory\n",
        "image_files = [file for file in os.listdir(image_dir) if file.endswith((\".jpg\", \".png\", \".jpeg\"))]\n",
        "print(f'These are the image file names in the current working directory: {image_files}') # View file names\n",
        "\n",
        "# Loop through images\n",
        "for file in image_files:\n",
        "    img_path = os.path.join(image_dir, file)\n",
        "    img = io.imread(img_path)  # Load the image\n",
        "    \n",
        "    # Normalize pixel values (scale between 0 and 1)\n",
        "    img = np.array(img, dtype=np.float64) / 255  \n",
        "\n",
        "    # Get the shape of the image\n",
        "    w, h, d = img.shape  \n",
        "\n",
        "    # Reshape into a 2D array of pixels\n",
        "    img_array = np.reshape(img, (w * h, d))  \n",
        "\n",
        "    # Convert to a Pandas DataFrame\n",
        "    pixels = DataFrame(img_array, columns=[\"Red\", \"Green\", \"Blue\"])  \n",
        "   \n",
        "    pixels[\"colour\"] = [colors.to_hex(p) for p in img_array]  # Convert RGB to HEX colors\n",
        "    print(pixels.head())"
      ],
      "id": "6d61ca53",
      "execution_count": null,
      "outputs": []
    },
    {
      "cell_type": "markdown",
      "metadata": {},
      "source": [
        ":::\n",
        "\n",
        "\n",
        "To run the clustering on a set of images we need to stack the data frames into one. We will add a new column to indicate which image the data came from. \n"
      ],
      "id": "7cd0e2e2"
    },
    {
      "cell_type": "code",
      "metadata": {},
      "source": [
        "# First we need to add a new column to our data sets to indicate which image they came from \n",
        "import pandas as pd\n",
        "\n",
        "pixels1['image'] = '1'\n",
        "pixels2['image'] = '2'\n",
        "pixels3['image'] = '3'\n",
        "\n",
        "pixels = pd.concat([pixels1, pixels2, pixels3], ignore_index = True, axis = 0) #axis 0 indicates stacking verticallu\n",
        "\n",
        "print(pixels)"
      ],
      "id": "6a061954",
      "execution_count": null,
      "outputs": []
    },
    {
      "cell_type": "markdown",
      "metadata": {},
      "source": [
        "::: {#ex3 .callout-note icon=false title='Optional Exercise'}\n",
        "Explore the data in the same way as the previous exercise. Do you notice anything from the correlations?\n",
        ":::\n",
        "\n",
        "We can now run K-means clustering in the same way as before. First by sampling a subset of pixels and assign our cluster centres. In order to compare the size of the dermatological features across the images, we want to measure the pixels that are and aren't dark space. We could try to use 2 clusters for this.\n"
      ],
      "id": "041afc98"
    },
    {
      "cell_type": "code",
      "metadata": {},
      "source": [
        "pixels_sample = pixels.sample(frac=0.05) #look at 5% of the data\n",
        "\n",
        "from sklearn.cluster import KMeans\n",
        "\n",
        "kmeans = KMeans(n_clusters=2, n_init=\"auto\").fit(pixels_sample[[\"Red\", \"Green\", \"Blue\"]])\n",
        "plt.imshow([kmeans.cluster_centers_])\n",
        "plt.show()"
      ],
      "id": "c9fa98eb",
      "execution_count": null,
      "outputs": []
    },
    {
      "cell_type": "markdown",
      "metadata": {},
      "source": [
        "We can now run our clustering with our whole data set.\n"
      ],
      "id": "abb89470"
    },
    {
      "cell_type": "code",
      "metadata": {},
      "source": [
        "labels = kmeans.predict(pixels[[\"Red\", \"Green\", \"Blue\"]])\n",
        "labels"
      ],
      "id": "cd748dc2",
      "execution_count": null,
      "outputs": []
    },
    {
      "cell_type": "markdown",
      "metadata": {},
      "source": [
        "Now we have used the clustering algorithm to cluster pixels into dark and light areas, we can manipulate our data frame to compare the size of the features in the images. \n",
        "\n",
        "First we want to add the clustering array to the pandas data frame \n"
      ],
      "id": "4b9906dc"
    },
    {
      "cell_type": "code",
      "metadata": {},
      "source": [
        "# Add the clustering array as a new column \n",
        "\n",
        "pixels['cluster'] = labels.tolist()\n",
        "print(pixels)"
      ],
      "id": "23b1afe7",
      "execution_count": null,
      "outputs": []
    },
    {
      "cell_type": "markdown",
      "metadata": {},
      "source": [
        "We can then plot the amount of dark space for each image  \n"
      ],
      "id": "0492238c"
    },
    {
      "cell_type": "code",
      "metadata": {},
      "source": [
        "# Filter only rows where cluster == 0\n",
        "pixels_fil = pixels[pixels[\"cluster\"] == 1]\n",
        "\n",
        "# Count occurrences of cluster 0 per image\n",
        "dark_counts= pixels_fil[\"image\"].value_counts()\n",
        "\n",
        "# Plot the bar chart\n",
        "plt.figure(figsize=(8, 5))\n",
        "dark_counts.plot(kind=\"bar\")\n",
        "plt.show()"
      ],
      "id": "cca52200",
      "execution_count": null,
      "outputs": []
    },
    {
      "cell_type": "markdown",
      "metadata": {},
      "source": [
        "In a real data set we would have lots of different images. Using clustering this way would save time in measuring images. Can you think of other applications relevant to your research?\n",
        "\n",
        "\n",
        "# Data augmentation\n",
        "\n",
        "We are moving on to a different aspect of clustering images **addressing the problem of limited image data**.    \n",
        "\n",
        "Mostly we have access to limited medical image data. This amount of data is insufficient to train a machine learning algorithm that is good enough to decipher between diseased and not diseased.\n",
        "Therefore, we will explore alternative strategies of creating more data from existing dataset to boost model performance.\n",
        "\n",
        "\n",
        "Data augmentation is a technique of artificially increasing the training set by creating modified copies of a dataset using existing data.\n",
        "It is aimed at creating new data points, manipulating existing data to increase the size and diversity of a dataset.\n",
        "An example use case is in image analysis for health care where it helps improve diagnostic models that detect, recognize, and diagnose diseases based on images. The creation of an augmented image provides more training data for models, especially for rare diseases that lack source data variations. The production and use of synthetic patient data advances medical research while respecting all data privacy considerations.\n",
        "\n",
        "::: {#highlights .callout-tip icon=false title='Why is data augmentation important?'}\n",
        "\n",
        "1. Enhanced Model performance.     \n",
        "   Data augmentation techniques help enrich datasets by creating many variations of existing data. This provides a larger dataset for training and enables a model to encounter more diverse features. The augmented data helps the model better generalize to unseen data and improve its overall performance in real-world environments. \n",
        "2. To prevent models from overfitting.       \n",
        "   Overfitting is the undesirable ML behavior where a model can accurately provide predictions for training data but it struggles with new data. If a model trains only with a narrow dataset, it can become overfit and can give predictions related to only that specific data type.\n",
        "3. The initial training set is too small. \n",
        "4. To improve the model accuracy.       \n",
        "   If you need to train a deep learning model on sensitive data, you can use augmentation techniques on the existing data to create synthetic data.\n",
        "6. To reduce the operational cost of labeling and cleaning the raw dataset.      \n",
        "   Data augmentation techniques increase the effectiveness of smaller datasets, vastly reducing the dependency on large datasets in training environments.\n",
        ":::\n",
        "\n",
        "\n",
        "\n",
        "**How do you achieve Image data augmentation?**\n",
        "\n",
        "- In image processing, applying geomteric transformations like rotations, flips, or color adjustments to existing images can help models generalize better.\n",
        "\n",
        "- Other transformations are:\n",
        "\n",
        "  1. *Color space transformations:* randomly change RGB color channels, contrast, and brightness.\n",
        "\n",
        "  2. *Kernel filters:* randomly change the sharpness or blurring of the image.\n",
        "  \n",
        "  3. *Random erasing:* delete some part of the initial image.\n",
        "  \n",
        "  4. *Mixing images:* blending and mixing multiple images. \n",
        "\n",
        "## Geometric Transformations\n",
        "\n",
        "In this session we will focus on geometric transformations only including: rotating images, flipping and blurring the images.\n"
      ],
      "id": "6daff5d7"
    },
    {
      "cell_type": "code",
      "metadata": {},
      "source": [
        "# Load the necessary libraries\n",
        "import skimage\n",
        "import matplotlib.pyplot as plt\n",
        "import matplotlib\n",
        "import numpy as np\n",
        "\n",
        "from skimage import data   ## Inbuilt dataset within scikit-image\n",
        "from skimage import io, transform, filters, exposure\n",
        "matplotlib.rcParams['font.size'] = 18"
      ],
      "id": "4a95014d",
      "execution_count": null,
      "outputs": []
    },
    {
      "cell_type": "code",
      "metadata": {},
      "source": [
        "# We are working with one file at a time for now.\n",
        "# Read in the image data\n",
        "image = io.imread(\"extra/data/mole.jpg\") "
      ],
      "id": "25ebd3b3",
      "execution_count": null,
      "outputs": []
    },
    {
      "cell_type": "markdown",
      "metadata": {},
      "source": [
        "### Rotate the image\n"
      ],
      "id": "5525b330"
    },
    {
      "cell_type": "code",
      "metadata": {},
      "source": [
        "# Rotate the image\n",
        "rotated = transform.rotate(image, 90)  # Rotate 90 degrees\n",
        "plt.imshow(rotated)"
      ],
      "id": "8f169a96",
      "execution_count": null,
      "outputs": []
    },
    {
      "cell_type": "markdown",
      "metadata": {},
      "source": [
        "### Flip the image horizontally\n"
      ],
      "id": "c5ef717b"
    },
    {
      "cell_type": "code",
      "metadata": {},
      "source": [
        "# Flip the image horizontally\n",
        "flipped_h = image[:, ::-1]\n",
        "plt.imshow(flipped_h) "
      ],
      "id": "9735138c",
      "execution_count": null,
      "outputs": []
    },
    {
      "cell_type": "markdown",
      "metadata": {},
      "source": [
        "### Flip the image vertically\n"
      ],
      "id": "c5c34bbb"
    },
    {
      "cell_type": "code",
      "metadata": {},
      "source": [
        "flipped_v = image[::-1, :]  \n",
        "plt.imshow(flipped_v)"
      ],
      "id": "5bbdbd41",
      "execution_count": null,
      "outputs": []
    },
    {
      "cell_type": "markdown",
      "metadata": {},
      "source": [
        "### Blur the image\n"
      ],
      "id": "3ffac347"
    },
    {
      "cell_type": "code",
      "metadata": {},
      "source": [
        "# Blur the image\n",
        "blurred = filters.gaussian(image, sigma=2)\n",
        "plt.imshow(blurred)"
      ],
      "id": "92c9543c",
      "execution_count": null,
      "outputs": []
    },
    {
      "cell_type": "markdown",
      "metadata": {},
      "source": [
        "# Visualise all images including the original image\n"
      ],
      "id": "49bd331a"
    },
    {
      "cell_type": "code",
      "metadata": {},
      "source": [
        "# Visualise the original and modified forms of the image all together\n",
        "fig, axes = plt.subplots(1, 5, figsize=(15, 5))\n",
        "titles = [\"Original\", \"Rotated\", \"Flipped H\", \"Flipped V\", \"Blurred\"]\n",
        "images = [image, rotated, flipped_h, flipped_v, blurred]\n",
        "\n",
        "for ax, title, image in zip(axes, titles, images):\n",
        "    ax.imshow(image, cmap=\"gray\")\n",
        "    ax.set_title(title)\n",
        "    ax.axis(\"off\")\n",
        "\n",
        "plt.show()"
      ],
      "id": "36aafaa4",
      "execution_count": null,
      "outputs": []
    },
    {
      "cell_type": "markdown",
      "metadata": {},
      "source": [
        "::: {#ex4 .callout-note icon=false title='Exercise'}\n",
        "We have been reading in one image at a time and applying the transformations on each image at a time. Can you work out how to process mutiple images all at once? Consider using the three image files provided.\n",
        ":::\n",
        "\n",
        "::: {#answer4 .callout-caution icon=false title='Answer' collapse=\"true\"}\n"
      ],
      "id": "c3260f84"
    },
    {
      "cell_type": "code",
      "metadata": {},
      "source": [
        "import os\n",
        "import matplotlib.pyplot as plt\n",
        "from skimage import io, transform, filters\n",
        "\n",
        "# Set a directory variable name containing images\n",
        "image_dir = \"extra/data/\"\n",
        "\n",
        "# List all image files in the directory\n",
        "image_files = [file for file in os.listdir(image_dir) if file.endswith((\".jpg\", \".png\", \".jpeg\"))]\n",
        "print(image_files) \n",
        "\n",
        "# Loop through images\n",
        "for file in image_files:\n",
        "    img_path = os.path.join(image_dir, file)\n",
        "    img = io.imread(img_path)  # Load the image\n",
        "\n",
        "    # Apply transformations\n",
        "    rotated = transform.rotate(img, 90)\n",
        "    flipped_h = img[:, ::-1]  # Flip horizontally\n",
        "    flipped_v = img[::-1, :]  # Flip vertically\n",
        "    blurred = filters.gaussian(img, sigma=2)\n",
        "\n",
        "    # Visualize transformations\n",
        "    fig, axes = plt.subplots(1, 5, figsize=(15, 5))\n",
        "    titles = [\"Original\", \"Rotated\", \"Flipped H\", \"Flipped V\", \"Blurred\"]\n",
        "    images = [img, rotated, flipped_h, flipped_v, blurred]\n",
        "\n",
        "    for ax, title, image in zip(axes, titles, images):\n",
        "        ax.imshow(image)\n",
        "        ax.set_title(title)\n",
        "        ax.axis(\"off\")\n",
        "\n",
        "    plt.suptitle(f\"Transformations for {file}\")\n",
        "    plt.show()"
      ],
      "id": "ffceae23",
      "execution_count": null,
      "outputs": []
    },
    {
      "cell_type": "markdown",
      "metadata": {},
      "source": [
        ":::\n",
        "\n",
        "\n",
        "<!--\n",
        "Play around with the rotation angles and observe variations to the image dataset.\n",
        "\n",
        "Experiment with varying amounts of sigma for blurring, what dod you observe happening to the images?\n",
        "\n",
        "**Hint**   \n",
        "`\n",
        "blurred1 = filters.gaussian(img, sigma=1)  \n",
        "`     \n",
        "`\n",
        "blurred5 = filters.gaussian(img, sigma=5)  \n",
        "`       \n",
        "`\n",
        "blurred10 = filters.gaussian(img, sigma=10)    \n",
        "`   \n",
        "How does each of the blurring differ from one another?\n",
        "\n",
        "\n",
        "### At your own time explore inbuilt scikit-image medical datasets\n"
      ],
      "id": "7947e073"
    },
    {
      "cell_type": "code",
      "metadata": {},
      "source": [
        "# Load inbuilt skin dataset from scikit-image\n",
        "image = data.skin()\n",
        "image # Displays an array representing the image\n",
        "plt.imshow(image) # Visualise the original image"
      ],
      "id": "f0ba6b21",
      "execution_count": null,
      "outputs": []
    },
    {
      "cell_type": "markdown",
      "metadata": {},
      "source": [
        "-->\n",
        "\n",
        "\n",
        "# Resources\n",
        "\n",
        "1. [Scikit-image](https://scikit-image.org/docs/stable/user_guide/install.html)\n",
        "\n",
        "2. [Data augmentation using AWS](https://aws.amazon.com/what-is/data-augmentation/#:~:text=Data%20augmentation%20is%20the%20process,machine%20learning%20(ML)%20models.)\n"
      ],
      "id": "de3116f7"
    }
  ],
  "metadata": {
    "kernelspec": {
      "name": "python3",
      "language": "python",
      "display_name": "Python 3 (ipykernel)",
      "path": "/Library/Frameworks/Python.framework/Versions/3.12/share/jupyter/kernels/python3"
    }
  },
  "nbformat": 4,
  "nbformat_minor": 5
}